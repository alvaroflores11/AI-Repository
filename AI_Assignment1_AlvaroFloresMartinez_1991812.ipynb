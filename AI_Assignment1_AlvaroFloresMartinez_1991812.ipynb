{
  "nbformat": 4,
  "nbformat_minor": 0,
  "metadata": {
    "colab": {
      "provenance": [],
      "collapsed_sections": []
    },
    "kernelspec": {
      "name": "python3",
      "display_name": "Python 3"
    },
    "language_info": {
      "name": "python"
    }
  },
  "cells": [
    {
      "cell_type": "markdown",
      "source": [
        "A2: Python Exercises\n",
        "Alvaro Flores Martinez 1991812\n",
        "Thursday V4-V6"
      ],
      "metadata": {
        "id": "Z3sppive6a68"
      }
    },
    {
      "cell_type": "code",
      "execution_count": 81,
      "metadata": {
        "colab": {
          "base_uri": "https://localhost:8080/"
        },
        "id": "nwBxv2m7c0UT",
        "outputId": "07115dae-92d6-4b28-d63e-2fe80bfba87e"
      },
      "outputs": [
        {
          "output_type": "stream",
          "name": "stdout",
          "text": [
            "Tell me your name: Alvaro\n",
            "Greetings Alvaro\n"
          ]
        }
      ],
      "source": [
        "message = input(\"Tell me your name: \")\n",
        "\n",
        "name1 = \"Peter\"\n",
        "name2 = \"Ana\"\n",
        "name3 = \"John\"\n",
        "\n",
        "if message==name1:\n",
        "  print()\n",
        "elif message==name2:\n",
        "  print()\n",
        "elif message==name3:\n",
        "  print()\n",
        "else:\n",
        "  print(\"Greetings \" + message)\n",
        "  "
      ]
    },
    {
      "cell_type": "code",
      "source": [
        "friends = [\"Jose\", \"Juan\", \"Tadeo\", \"Moises\", \"Marcos\"]\n",
        "print(friends[4])\n",
        "friends.reverse()\n",
        "print(friends)\n"
      ],
      "metadata": {
        "colab": {
          "base_uri": "https://localhost:8080/"
        },
        "id": "V5vw5uPclAYE",
        "outputId": "43dd1d04-7e09-4e0a-9de5-649842a94516"
      },
      "execution_count": 75,
      "outputs": [
        {
          "output_type": "stream",
          "name": "stdout",
          "text": [
            "Marcos\n",
            "['Marcos', 'Moises', 'Tadeo', 'Juan', 'Jose']\n"
          ]
        }
      ]
    },
    {
      "cell_type": "code",
      "source": [
        " \n",
        "def print_in_a_frame(*words):\n",
        "    size = max(len(word) for word in words)\n",
        "    print('*' * (size + 4))\n",
        "    for word in words:\n",
        "        print('* {:<{}} *'.format(word, size))\n",
        "    print('*' * (size + 4))\n",
        "\n",
        "print_in_a_frame(\"Alvaro\", \"Flores\", \"Martinez\", \"1991812\", \"Biomedical\", \"Engineering\")\n"
      ],
      "metadata": {
        "colab": {
          "base_uri": "https://localhost:8080/"
        },
        "id": "8ELbjpoUuqoY",
        "outputId": "668c14e3-c2c8-411f-dadd-f4406ec45c34"
      },
      "execution_count": 79,
      "outputs": [
        {
          "output_type": "stream",
          "name": "stdout",
          "text": [
            "***************\n",
            "* Alvaro      *\n",
            "* Flores      *\n",
            "* Martinez    *\n",
            "* 1991812     *\n",
            "* Biomedical  *\n",
            "* Engineering *\n",
            "***************\n"
          ]
        }
      ]
    }
  ]
}